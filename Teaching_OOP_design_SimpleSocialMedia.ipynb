{
  "nbformat": 4,
  "nbformat_minor": 0,
  "metadata": {
    "colab": {
      "provenance": [],
      "authorship_tag": "ABX9TyPfAhStAfFoFewloRV6F/JR",
      "include_colab_link": true
    },
    "kernelspec": {
      "name": "python3",
      "display_name": "Python 3"
    },
    "language_info": {
      "name": "python"
    }
  },
  "cells": [
    {
      "cell_type": "markdown",
      "metadata": {
        "id": "view-in-github",
        "colab_type": "text"
      },
      "source": [
        "<a href=\"https://colab.research.google.com/github/ftkovr9k/Teaching-OOP-Design---SimpleSocialMedia/blob/main/Teaching_OOP_design_SimpleSocialMedia.ipynb\" target=\"_parent\"><img src=\"https://colab.research.google.com/assets/colab-badge.svg\" alt=\"Open In Colab\"/></a>"
      ]
    },
    {
      "cell_type": "code",
      "execution_count": 2,
      "metadata": {
        "colab": {
          "base_uri": "https://localhost:8080/"
        },
        "id": "-4rCT1Jcw2Us",
        "outputId": "ef76abbb-e6d7-489b-acef-8c805c7b9957"
      },
      "outputs": [
        {
          "output_type": "stream",
          "name": "stdout",
          "text": [
            "Registered userBob with email bobkane@qmail.com\n",
            "Registered userAlice with email alicerava@qmail.com\n",
            "Registered userJap with email japi@qmail.com\n",
            "Registered userhobert with email hoberto@qmail.com\n",
            "Alice and Bob are now friends!\n",
            "Bob and Alice are now friends!\n",
            "Bob and Jap are now friends!\n",
            "Jap and Bob are now friends!\n",
            "hobert and Alice are now friends!\n",
            "Alice and hobert are now friends!\n",
            "----Display friendships----\n",
            "Alice\n",
            "Jap\n",
            "{'Bob': ['Alice', 'Jap'], 'Alice': ['Bob', 'hobert'], 'Jap': ['Bob'], 'hobert': ['Alice']}\n"
          ]
        }
      ],
      "source": [
        "class User:\n",
        "    def __init__(self, name, email):\n",
        "        self.name = name\n",
        "        self.email = email\n",
        "        self.friends = []\n",
        "\n",
        "    def add_friend(self, user):\n",
        "        if user not in self.friends:\n",
        "            self.friends.append(user)\n",
        "            user.add_friend(self)\n",
        "            print(f\"{self.name} and {user.name} are now friends!\")\n",
        "\n",
        "    def show_friends(self):\n",
        "        for friend in self.friends:\n",
        "            print(friend.name)\n",
        "\n",
        "class PacePen:\n",
        "    def __init__(self):\n",
        "        self.users = []\n",
        "\n",
        "    def register(self, new_user):\n",
        "            for user in self.users:\n",
        "                if user.name == new_user.name and user.email == new_user.email:\n",
        "                    print(\"Name/Email taken\")\n",
        "                    break\n",
        "            self.users.append(new_user)\n",
        "            print(f\"Registered user{new_user.name} with email {new_user.email}\")\n",
        "\n",
        "    def all_users(self):\n",
        "        for user in users:\n",
        "            print(user)\n",
        "    def show_friendships(self):\n",
        "        adj = {}\n",
        "        for user in self.users:\n",
        "            names = []\n",
        "            for name in user.friends:\n",
        "                names.append(name.name)\n",
        "            adj[user.name] = names\n",
        "        print(adj)\n",
        "platform = PacePen()\n",
        "u1 = User(\"Bob\", \"bobkane@qmail.com\")\n",
        "u2 = User(\"Alice\", \"alicerava@qmail.com\")\n",
        "u3 = User(\"Jap\", \"japi@qmail.com\")\n",
        "u4 = User(\"hobert\", \"hoberto@qmail.com\")\n",
        "\n",
        "platform.register(u1)\n",
        "platform.register(u2)\n",
        "platform.register(u3)\n",
        "platform.register(u4)\n",
        "\n",
        "u1.add_friend(u2)\n",
        "u2.add_friend(u1)\n",
        "u3.add_friend(u1)\n",
        "u2.add_friend(u4)\n",
        "\n",
        "print(\"----Display friendships----\")\n",
        "u1.show_friends()\n",
        "#u2.show_friends()\n",
        "#u3.show_friends()\n",
        "#u4.show_friends()\n",
        "\n",
        "platform.show_friendships()\n",
        "\n",
        "\n",
        "\n"
      ]
    }
  ]
}